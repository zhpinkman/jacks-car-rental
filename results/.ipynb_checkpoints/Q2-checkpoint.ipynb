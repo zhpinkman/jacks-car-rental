{
 "cells": [
  {
   "cell_type": "markdown",
   "metadata": {},
   "source": [
    "#### Q2 \n",
    "\n",
    "Food stuff company"
   ]
  },
  {
   "cell_type": "markdown",
   "metadata": {},
   "source": [
    "### Premises"
   ]
  },
  {
   "cell_type": "markdown",
   "metadata": {},
   "source": [
    "As the problem in hand is so open with different unattended settings and parameters, we have to somehow illuminate what are we dealing with and what are the best assumptions to make before getting into the actual task."
   ]
  },
  {
   "cell_type": "markdown",
   "metadata": {},
   "source": [
    "As one of the main aspects of this task is predicting the behavior of the customers and dealing with their requests, we have to make a model of the behavior of our customer which is their rate of requests for each product."
   ]
  },
  {
   "cell_type": "markdown",
   "metadata": {},
   "source": [
    "That is good to point out that it is entirely possible to have some ingredients and make use of them in different ways. For instance, we could have some amount of suggar. That suggar could be consumed in variety of products and it would not be a good practice to model the demand for each product. Instead, with our justification being said, it would be more reasonable to model ingredients which can be from 100 different types of ingredients."
   ]
  },
  {
   "cell_type": "markdown",
   "metadata": {},
   "source": [
    "To have a more accurate insight into the task in hand, the price of the products and the ingredients should be well-designed to make a better conclusion about the behavior of the agent. For instance, the price of each ingredient can be come from a normal distribution, also the prices of the products. "
   ]
  },
  {
   "cell_type": "markdown",
   "metadata": {},
   "source": [
    "In addition to that, the rate at which customers have demand for each product can be modeled as a poisson distribution with lambda set within some range just to make it more real. The mean values for these poisson random variables could be within the range 1 to 10 to make it a little simplified."
   ]
  },
  {
   "cell_type": "markdown",
   "metadata": {},
   "source": [
    "As we are choosing the amount of each ingredient as the states of our markov decision model, we have to put a cap on the amounts that can be stored in the company which in our case, the maximum of 20 could be reasonable. "
   ]
  },
  {
   "cell_type": "markdown",
   "metadata": {},
   "source": [
    "for making a better decision toward setting the discount factor, we should answer the question wether we want to make decisions faster and put less computational power or we want accurate and more far-sighted decisions. \n",
    "if the company prefers more accurate results and policies and actually be more far-sighted, it should consider magnitudes closer to 1 for the discount factor."
   ]
  },
  {
   "cell_type": "markdown",
   "metadata": {},
   "source": [
    "### States"
   ]
  },
  {
   "cell_type": "markdown",
   "metadata": {},
   "source": [
    "The states of our MDP would be the amount that we have from each ingredient. To be more precise, in the beginning of each month, we are allowed to provide ourselves with any kind of ingredietns we want with the cap of 20 on each of them. each state represents what we have from each ingredient. for instance, one state could be [1, 2, 3, 5, 6 .. 10] that states that we have 1 unit of ingredient number1, two units of ingredient number2 and so on and so forth. Another important matter to be attended is that by letting the model some degree of exploration, we can generalized our model to all the months in the year given that the demand for products can be different in each month."
   ]
  },
  {
   "cell_type": "markdown",
   "metadata": {},
   "source": [
    "### Transitions"
   ]
  },
  {
   "cell_type": "markdown",
   "metadata": {},
   "source": [
    "The concept of transition in this task, considering state definition, would be wether to buy more from some ingredients or not. Also, the amount of ingredients that are being consumed from the previous month should be taken into account to make a transition. For instance, assume you have 5 units of ingredient number 1 and 10 units of ingredient number2 after buying some more ingredients. The customers have demands of 3 for the first ingredient and 7 for the second ingredient. The outcome of this would be that we will be transferred into the state with 2 units of ingredient number 1 and 3 units of ingredient number 2. all the transitions would take place in this order. "
   ]
  },
  {
   "cell_type": "markdown",
   "metadata": {},
   "source": [
    "### Rewards"
   ]
  },
  {
   "cell_type": "markdown",
   "metadata": {},
   "source": [
    "That would be reasonable to talk about rewards and punishments together because they come together in the transitions. Rewards would be demand for each product considering the price customer is paying for them, and the punishments would be the amount of money that supplying ingredients costs us. The price of products are great factors to take an eye on but given that the quality of the products doesn't bother our customers and the demand they have for products, the quality of the products can not be a vital matter.\n",
    "Besides, with different qualities and ease of supplying different ingredients, their costs should be take into account computing the punishment with our transitions. Furthermore, given that all the ingredients have some kind of expiration date, with their expiration we will have some punishment or negative reward that can be taken into account beginning of each month."
   ]
  },
  {
   "cell_type": "markdown",
   "metadata": {},
   "source": [
    "### Actions"
   ]
  },
  {
   "cell_type": "markdown",
   "metadata": {},
   "source": [
    "actions and transitions somehow come together. with the aforementioned matters about the transitions, we can take our actions as supplying more of certain ingredients into our repositories. given that we are in the state S with certain amounts of each ingredient, we can buy more from each ingredient in the beginning of the next month, and that would be our actions toward getting into different states."
   ]
  },
  {
   "cell_type": "markdown",
   "metadata": {},
   "source": [
    "### Why this is a MDP ? "
   ]
  },
  {
   "cell_type": "markdown",
   "metadata": {},
   "source": [
    "To answert this question we can allude to all previous topics that have been covered such as actions, states, rewards, and etc. To recap, we can say that we have a agent that can go from one state to another with some actions. each state can have certain advantages which is denoted as its state_value and all the rewards and transitions are somehow stochastic. That would be a good practice to check our model with this definition of MDPs.\n",
    "At each time step, the process is in some state S, and the decision maker may choose any action A  that is available in state S. The process responds at the next time step by randomly moving into a new state S', and giving the decision maker a corresponding reward R. Checking our model with this definition, that would be clear that this task can be easily be modeled as a MDP. "
   ]
  }
 ],
 "metadata": {
  "kernelspec": {
   "display_name": "Python 3",
   "language": "python",
   "name": "python3"
  },
  "language_info": {
   "codemirror_mode": {
    "name": "ipython",
    "version": 3
   },
   "file_extension": ".py",
   "mimetype": "text/x-python",
   "name": "python",
   "nbconvert_exporter": "python",
   "pygments_lexer": "ipython3",
   "version": "3.8.2"
  }
 },
 "nbformat": 4,
 "nbformat_minor": 4
}
